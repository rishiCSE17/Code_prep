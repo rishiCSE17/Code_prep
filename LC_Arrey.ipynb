{
 "cells": [
  {
   "cell_type": "markdown",
   "metadata": {},
   "source": [
    "# Problem 1\n",
    "Given a binary array, find the maximum number of consecutive 1s in this array.\n",
    "* https://leetcode.com/explore/learn/card/fun-with-arrays/521/introduction/3238/"
   ]
  },
  {
   "cell_type": "code",
   "execution_count": null,
   "metadata": {},
   "outputs": [],
   "source": [
    "class Solution:\n",
    "    def findMaxConsecutiveOnes(self, nums: List[int]) -> int:\n",
    "        j= k = -1  # start and end index of a seq of 1s\n",
    "        max_len = 0 # len of the seq \n",
    "        \n",
    "        for i in range(len(nums)):\n",
    "            \n",
    "            if nums[i] == 1:   \n",
    "                if j == -1:    # Case1 : Started a seq\n",
    "                    j=k=i      # init j and k \n",
    "                else:          # Case2 : within a seq \n",
    "                    k+=1       # increment k only \n",
    "            else:              # if seen a 0\n",
    "                if j != -1:    # means counting a seq  \n",
    "                    if k-j+1 > max_len: # Case3 : Terminates a Sequence \n",
    "                        max_len = k-j+1 # update the max_len if longer seq found\n",
    "                    \n",
    "                    j=k=-1     # reset to -1\n",
    "        if j != -1:                     # Case4 : Default case : if list ends with 1\n",
    "            if k-j+1 > max_len:\n",
    "                max_len = k-j+1\n",
    "        \n",
    "        return max_len"
   ]
  },
  {
   "cell_type": "code",
   "execution_count": null,
   "metadata": {},
   "outputs": [],
   "source": []
  }
 ],
 "metadata": {
  "kernelspec": {
   "display_name": "Python 3",
   "language": "python",
   "name": "python3"
  },
  "language_info": {
   "codemirror_mode": {
    "name": "ipython",
    "version": 3
   },
   "file_extension": ".py",
   "mimetype": "text/x-python",
   "name": "python",
   "nbconvert_exporter": "python",
   "pygments_lexer": "ipython3",
   "version": "3.7.6"
  }
 },
 "nbformat": 4,
 "nbformat_minor": 4
}
